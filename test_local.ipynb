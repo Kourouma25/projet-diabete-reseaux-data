{
 "cells": [
  {
   "cell_type": "code",
   "execution_count": null,
   "id": "686bd71f",
   "metadata": {},
   "outputs": [
    {
     "name": "stdout",
     "output_type": "stream",
     "text": [
      "Réponse du serveur: {'prediction': 0, 'probabilite_diabete': 0.36}\n"
     ]
    }
   ],
   "source": [
    "import pandas as pd\n",
    "import requests\n",
    "\n",
    "# Charger les données du fichier CSV\n",
    "data = pd.read_csv('patient_a_tester.csv')\n",
    "\n",
    "# tester la première ligne (le premier patient)\n",
    "donne_predire = data.iloc[0].to_dict()\n",
    "\n",
    "# URL de ton API locale\n",
    "url_base = \"http://127.0.0.1:5000\"\n",
    "\n",
    "# Envoi de la requête POST\n",
    "response = requests.post(f\"{url_base}/predire\", json=donne_predire)\n",
    "\n",
    "# Affichage de la réponse du serveur\n",
    "if response.status_code == 200:\n",
    "    print(\"Réponse du serveur:\", response.json())\n",
    "else:\n",
    "    print(\"Erreur:\", response.text)\n"
   ]
  }
 ],
 "metadata": {
  "kernelspec": {
   "display_name": "base",
   "language": "python",
   "name": "python3"
  },
  "language_info": {
   "codemirror_mode": {
    "name": "ipython",
    "version": 3
   },
   "file_extension": ".py",
   "mimetype": "text/x-python",
   "name": "python",
   "nbconvert_exporter": "python",
   "pygments_lexer": "ipython3",
   "version": "3.12.7"
  }
 },
 "nbformat": 4,
 "nbformat_minor": 5
}
